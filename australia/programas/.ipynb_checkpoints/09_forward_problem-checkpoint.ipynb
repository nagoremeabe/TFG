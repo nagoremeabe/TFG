{
 "cells": [
  {
   "cell_type": "markdown",
   "metadata": {},
   "source": [
    "## 09 - *Forward Problem*\n",
    "Con los datos estimados de las anomalías de temperatura en el aire, se estimarán utilizando la siguiente ecuación, $\\Theta_j = T_k \\thinspace A_{jk}$,  las anomalías en diferentes profundidades. Comparamos esta última estimación mediante una regresión lineal, OLS(*Ordinary Least Squares*),y determinamos el R<sup>2</sup> de la regresión."
   ]
  },
  {
   "cell_type": "code",
   "execution_count": 5,
   "metadata": {},
   "outputs": [
    {
     "data": {
      "text/plain": [
       "<matplotlib.pyplot._IoffContext at 0x11eee9ed4f0>"
      ]
     },
     "execution_count": 5,
     "metadata": {},
     "output_type": "execute_result"
    }
   ],
   "source": [
    "# Librerías para tratar los datos\n",
    "import math\n",
    "import pandas as pd\n",
    "import numpy as np\n",
    "\n",
    "# Librerías para visulizar los datos\n",
    "import matplotlib.pyplot as plt\n",
    "import seaborn as sns\n",
    "sns.set_theme(style=\"whitegrid\")\n",
    "\n",
    "# Librería para calcular la OLS\n",
    "import statsmodels.api as sm\n",
    "\n",
    "# Otras librerías interesantes\n",
    "import warnings\n",
    "warnings.filterwarnings(\"ignore\")\n",
    "\n",
    "plt.ioff()"
   ]
  },
  {
   "cell_type": "code",
   "execution_count": 6,
   "metadata": {},
   "outputs": [],
   "source": [
    "# Obtener información necesario\n",
    "df = pd.read_csv(\"..\\\\boreholes\\\\dataframe.csv\",index_col=\"Unnamed: 0\")\n",
    "datos_menor40=np.genfromtxt(\"..\\\\resultados\\\\datos\\\\menor_40m.csv\",delimiter=\",\",dtype=\"int\")\n",
    "names = df.index\n",
    "\n",
    "df_mest = pd.read_csv(\"..\\\\resultados\\\\mest\\\\mest.csv\").to_numpy()\n",
    "df_mest=df_mest.transpose()"
   ]
  },
  {
   "cell_type": "code",
   "execution_count": 7,
   "metadata": {},
   "outputs": [],
   "source": [
    "def ols(Ail:np.array,mest:np.array,Tt:np.array,nombre:str,i:int)->float:\n",
    "\n",
    "    # Calculamos el problema directo\n",
    "    theta_j = (Ail@mest)\n",
    "    theta_j_real = Tt\n",
    "\n",
    "    y = sm.add_constant(theta_j_real)\n",
    "    x = theta_j\n",
    "\n",
    "    # OLS\n",
    "    model = sm.OLS(x,y)\n",
    "    results = model.fit()\n",
    "\n",
    "    pred_ols = results.get_prediction()\n",
    "    iv_l = pred_ols.summary_frame()[\"obs_ci_lower\"]\n",
    "    iv_u = pred_ols.summary_frame()[\"obs_ci_upper\"]\n",
    "\n",
    "    # Plot OLS\n",
    "    fig = plt.figure(i)\n",
    "    plt.plot(theta_j,theta_j_real,label = \"Data\",c=sns.color_palette('Set2')[0])\n",
    "    plt.plot(results.fittedvalues, theta_j_real, \"r--.\", label=\"OLS\",color=sns.color_palette('Set2')[1])\n",
    "    plt.plot(iv_u, theta_j_real, \"--\",color=sns.color_palette('Set2')[1])\n",
    "    plt.plot(iv_l, theta_j_real, \"--\",color=sns.color_palette('Set2')[1])\n",
    "    plt.legend(loc=\"best\")\n",
    "\n",
    "    plt.title(f\"Anomalias Estimadas vs. Anomalias Reales en {nombre}.\\n \\n r2: {round(results.rsquared,2)}\")\n",
    "    plt.xlabel(\"Anomalias Reales\")\n",
    "    plt.ylabel(\"Anomalias Estimadas\")\n",
    "    plt.savefig(f\"..\\\\resultados\\\\r_2\\\\plot_r_2_{nombre}.png\")\n",
    "    plt.close(fig)\n",
    "    return results.rsquared"
   ]
  },
  {
   "cell_type": "code",
   "execution_count": 8,
   "metadata": {},
   "outputs": [],
   "source": [
    "r2=[]\n",
    "for i in range(len(names)):\n",
    "    df=pd.read_csv(f\"..\\\\resultados\\\\matriz\\\\matriz_{names[i]}.csv\")\n",
    "    Ail = df.to_numpy()\n",
    "\n",
    "    Tt = np.genfromtxt(f\"..\\\\resultados\\\\anomalias\\\\csv\\\\anomalias_{names[i]}.csv\",delimiter=\",\")\n",
    "    Tt = Tt[datos_menor40[i]:]\n",
    "\n",
    "    em = ols(Ail,df_mest[i],Tt,names[i],i)\n",
    "    r2.append(round(em,2))\n",
    "\n",
    "\n",
    "# Los gráficos de las regresiones se guardan en la ruta: australia\\resultados\\r_2\\"
   ]
  },
  {
   "cell_type": "markdown",
   "metadata": {},
   "source": [
    "### Intervalo de confianza del  95%\n",
    "\n",
    "$intervalo = z_{\\alpha/2}\\frac{\\sigma}{\\sqrt{n}}$, donde $\\sigma$ es el error estándar, $z_{\\alpha/2}=1.96$ y n es la longitud del vector analizado (len(r2)).\n"
   ]
  },
  {
   "cell_type": "code",
   "execution_count": 9,
   "metadata": {},
   "outputs": [
    {
     "name": "stdout",
     "output_type": "stream",
     "text": [
      "Intervalo de confianza:  0.05707517763729624\n"
     ]
    }
   ],
   "source": [
    "# Cálculo de la media y del error estándat\n",
    "mean=np.mean(r2)\n",
    "std=np.std(r2)\n",
    "\n",
    "# Cáculo del intervalo de confianza del 95%\n",
    "intervalo=1.96*std/(math.sqrt(len(r2)))\n",
    "print('Intervalo de confianza: ',intervalo)"
   ]
  }
 ],
 "metadata": {
  "kernelspec": {
   "display_name": "Python 3 (ipykernel)",
   "language": "python",
   "name": "python3"
  },
  "language_info": {
   "codemirror_mode": {
    "name": "ipython",
    "version": 3
   },
   "file_extension": ".py",
   "mimetype": "text/x-python",
   "name": "python",
   "nbconvert_exporter": "python",
   "pygments_lexer": "ipython3",
   "version": "3.9.12"
  },
  "vscode": {
   "interpreter": {
    "hash": "6f20da98950b8fb7aa99ae04a1efb1e6c76c22aacaceeaa29a0bdca90eab0d95"
   }
  }
 },
 "nbformat": 4,
 "nbformat_minor": 2
}
