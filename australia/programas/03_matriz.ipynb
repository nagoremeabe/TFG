{
 "cells": [
  {
   "cell_type": "markdown",
   "metadata": {},
   "source": [
    "## 03 - Obtener la Matriz $A_{jk}$\n",
    "\n",
    "Se obtendrá a continuación la matriz definida mediante esta expresión matemática para cada uno de los *boreholes* y se guardará en un \".csv\".\n",
    "\n",
    "$A_{jk} = erfc\\left\\lbrace \\frac{z_j}{2 \\sqrt{kt_{k-1}}}\\right\\rbrace - erfc\\left\\lbrace \\frac{z_j}{2 \\sqrt{kt_{k}}}\\right\\rbrace\n",
    "$"
   ]
  },
  {
   "cell_type": "code",
   "execution_count": 2,
   "metadata": {},
   "outputs": [],
   "source": [
    "# Procesamiento de datos\n",
    "import numpy as np\n",
    "import pandas as pd\n",
    "\n",
    "# Paquetes para realizar gráficos\n",
    "#import matplotlib.pyplot as plt\n",
    "import seaborn as sns\n",
    "\n",
    "# Paquetes importantes para el problema que vamos a realizar\n",
    "import math\n",
    "import os\n",
    "import warnings\n",
    "warnings.filterwarnings(\"ignore\")\n",
    "\n",
    "# Especifico el estilo que quiero en mis gráficos\n",
    "sns.set_theme(style=\"whitegrid\")"
   ]
  },
  {
   "cell_type": "code",
   "execution_count": 3,
   "metadata": {},
   "outputs": [],
   "source": [
    "# Leer los datos de el datafrmae\n",
    "df = pd.read_csv(\"../boreholes/dataframe.csv\",delimiter=\",\",decimal=\".\",index_col=\"Unnamed: 0\")"
   ]
  },
  {
   "cell_type": "code",
   "execution_count": 4,
   "metadata": {},
   "outputs": [],
   "source": [
    "#Obtengo en una lista donde comenzarían los datos en cada caso\n",
    "posicion = df[\"Posición del Primer Dato\"]\n",
    "names = df.index\n",
    "\n",
    "#Path de donde tengo los datos \n",
    "document_name = []\n",
    "for filename in os.listdir(\"../boreholes/raw\"):\n",
    "    document_name.append(os.path.join(\"../boreholes/raw\", filename))"
   ]
  },
  {
   "cell_type": "code",
   "execution_count": 5,
   "metadata": {},
   "outputs": [],
   "source": [
    "# Funciones últiles\n",
    "#=============================================================\n",
    "# Definir la matriz Ajk\n",
    "def matriz(tk:list,zj:list,alpha:float):\n",
    "    #Defino y lleno la matriz de 0-s\n",
    "    Ajk = []\n",
    "    filas = len(zj)\n",
    "    columnas = len(tk)\n",
    "    \n",
    "    for i in range(filas):\n",
    "        Ajk.append([])\n",
    "        for j in range(columnas):\n",
    "            Ajk[i].append(0)\n",
    "\n",
    "    # La relleno con los datos\n",
    "    for j in range(filas):\n",
    "        for k in range(columnas):\n",
    "            Ajk[j][k] = math.erfc(zj[j] / (2 * math.sqrt(alpha * tk[k-1])))\n",
    "    \n",
    "    return Ajk\n",
    "\n",
    "#========================================================================\n",
    "# Número de datos en profundidades mayores a 40m\n",
    "def menor(zj:list,depth:int)->int:\n",
    "    suma = 0 \n",
    "    for i in zj:\n",
    "        if(i<depth):\n",
    "            suma += 1\n",
    "    return suma"
   ]
  },
  {
   "cell_type": "code",
   "execution_count": 7,
   "metadata": {},
   "outputs": [],
   "source": [
    "# Defino varios parámetros\n",
    "tk = list(range(20,520,20))\n",
    "alpha = 31.6 #m**2*y**-1"
   ]
  },
  {
   "cell_type": "code",
   "execution_count": 13,
   "metadata": {},
   "outputs": [],
   "source": [
    "# Cálculo de la matriz para cada uno de los boreholes\n",
    "menor_datos=[]\n",
    "for i in range(len(names)):\n",
    "    zj,Tj = np.loadtxt (document_name[i],skiprows = posicion[i]+1 ,unpack = True,encoding=\"latin1\")\n",
    "    Ajk = matriz(tk,zj,alpha)\n",
    "\n",
    "    #Elimino una columna\n",
    "    Ail = np.delete(Ajk,0,1)\n",
    "\n",
    "    # Elimino x filas, x siendo el número de datos que tenemos en los \n",
    "    # primeros 40m\n",
    "    Ail = Ail [menor(zj,40):]\n",
    "    suma = menor(zj,40)\n",
    "\n",
    "    menor_datos.append(int(suma))\n",
    "\n",
    "    # Obtener un datafrmae para guardar los datos\n",
    "    df_matriz = pd.DataFrame(Ail)\n",
    "    df_matriz.to_csv(\"../resultados/matriz/matriz_{}.csv\".format(names[i]),index = False)\n",
    "\n"
   ]
  },
  {
   "cell_type": "code",
   "execution_count": 17,
   "metadata": {},
   "outputs": [],
   "source": [
    "# Guardo el número de filas extraídas para cada uno de los boreholes\n",
    "np.savetxt(\"../resultados/datos/menor_40m.csv\",menor_datos,delimiter=\",\",fmt=\"%s\")"
   ]
  }
 ],
 "metadata": {
  "kernelspec": {
   "display_name": "Python 3.10.4 ('venv')",
   "language": "python",
   "name": "python3"
  },
  "language_info": {
   "codemirror_mode": {
    "name": "ipython",
    "version": 3
   },
   "file_extension": ".py",
   "mimetype": "text/x-python",
   "name": "python",
   "nbconvert_exporter": "python",
   "pygments_lexer": "ipython3",
   "version": "3.10.4"
  },
  "vscode": {
   "interpreter": {
    "hash": "68939215d0b860edebb72348db714402d9f571d9c6c0326f23bbd5688cf81eab"
   }
  }
 },
 "nbformat": 4,
 "nbformat_minor": 2
}
