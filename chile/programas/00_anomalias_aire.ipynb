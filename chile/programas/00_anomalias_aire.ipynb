{
 "cells": [
  {
   "cell_type": "markdown",
   "metadata": {},
   "source": [
    "# <center>Reconstrucción de Temperaturas Utilizando los *Boreholes* de Chile: Validación del Problema</center>"
   ]
  },
  {
   "cell_type": "markdown",
   "metadata": {},
   "source": [
    "## 01 - Obtener las Anomalías en el Aire\n",
    "\n",
    "Obtención de las anomalías en el aire para los *boreholes* ala1110-2 y 1501 en Chile desde un archivo netCDF."
   ]
  },
  {
   "cell_type": "code",
   "execution_count": 3,
   "metadata": {},
   "outputs": [],
   "source": [
    "#Importamos las librerías necesarias\n",
    "from netCDF4 import Dataset as NetCDFFile\n",
    "\n",
    "import pandas as pd\n",
    "from datetime import timedelta,datetime"
   ]
  },
  {
   "cell_type": "code",
   "execution_count": 4,
   "metadata": {},
   "outputs": [],
   "source": [
    "# Leer datos del archivos netCDF\n",
    "data = NetCDFFile (\"../datos_aire/gistemp250_GHCNv4.nc\",\"r\")\n",
    "Float64 = \"d\""
   ]
  },
  {
   "cell_type": "code",
   "execution_count": 5,
   "metadata": {},
   "outputs": [],
   "source": [
    "# Latitude y longitude de los boreholes ala1110-2 y 1501 respectivamente\n",
    "lat_borehole=[-28.66632,-26.75389]\n",
    "lon_borehole=[-70.9104,-69.895]\n",
    "nombres=[\"ala1110-2\",\"1501\"]"
   ]
  },
  {
   "cell_type": "code",
   "execution_count": 6,
   "metadata": {},
   "outputs": [],
   "source": [
    "# Todas las latitudes dentro del netcdf\n",
    "lat = data.variables[\"lat\"][:]\n",
    "lon = data.variables[\"lon\"][:]"
   ]
  },
  {
   "cell_type": "code",
   "execution_count": 7,
   "metadata": {},
   "outputs": [],
   "source": [
    "df_sat = pd.DataFrame()\n",
    "for i in range(len(lat_borehole)):\n",
    "    sq_diff_lat = (lat - lat_borehole[i])**2\n",
    "    sq_diff_lon = (lon - lon_borehole[i])**2\n",
    "    \n",
    "    min_index_lat = sq_diff_lat.argmin()\n",
    "    min_index_lon = sq_diff_lon.argmin()\n",
    "    \n",
    "    temp = data.variables[\"tempanomaly\"]\n",
    "    temp_borehole =  temp [:,min_index_lat,min_index_lon]\n",
    "    \n",
    "    #Store data a mi manera\n",
    "    time_units = data.variables[\"time\"].units\n",
    "    starting_date = data.variables[\"time\"].units[11:21]\n",
    "    #print(starting_date) #just to know the number i have to add\n",
    "\n",
    "    dates = []\n",
    "\n",
    "    for data_indays in data.variables[\"time\"]:\n",
    "        specific_data = datetime(1800,1,1)\n",
    "        new_date = str(specific_data + timedelta(int(data_indays)))\n",
    "        new_date = new_date[0:9]\n",
    "        dates.append(new_date)\n",
    "        \n",
    "    df_sat[f\"{nombres[i]}\"] = temp_borehole\n",
    "df_sat[\"Fechas\"] = dates  "
   ]
  },
  {
   "cell_type": "code",
   "execution_count": 8,
   "metadata": {},
   "outputs": [],
   "source": [
    "# Reorganizar el dataframe, calculando la media anual\n",
    "df_sat[\"Fechas\"] = pd.to_datetime(df_sat.Fechas)\n",
    "df_sat.set_index(\"Fechas\",inplace=True)\n",
    "df_sat = df_sat.resample(\"Y\").mean()\n",
    "\n",
    "# Guardamos el dataframe\n",
    "df_sat.to_csv(\"..//resultados//sat.csv\",sep=\",\")"
   ]
  }
 ],
 "metadata": {
  "kernelspec": {
   "display_name": "Python 3.10.4 ('venv')",
   "language": "python",
   "name": "python3"
  },
  "language_info": {
   "codemirror_mode": {
    "name": "ipython",
    "version": 3
   },
   "file_extension": ".py",
   "mimetype": "text/x-python",
   "name": "python",
   "nbconvert_exporter": "python",
   "pygments_lexer": "ipython3",
   "version": "3.10.4"
  },
  "orig_nbformat": 4,
  "vscode": {
   "interpreter": {
    "hash": "68939215d0b860edebb72348db714402d9f571d9c6c0326f23bbd5688cf81eab"
   }
  }
 },
 "nbformat": 4,
 "nbformat_minor": 2
}
